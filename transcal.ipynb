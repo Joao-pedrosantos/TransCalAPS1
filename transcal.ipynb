{
 "cells": [
  {
   "cell_type": "markdown",
   "metadata": {},
   "source": [
    "Transcal - APS 1\n",
    "================\n",
    "João Pedro Rodrigues dos Santos, Gabriel Hermida Mendonça"
   ]
  },
  {
   "cell_type": "code",
   "execution_count": 1,
   "metadata": {},
   "outputs": [],
   "source": [
    "#importamos as bibliotecas\n",
    "import numpy as np\n",
    "import matplotlib.pyplot as plt"
   ]
  },
  {
   "cell_type": "code",
   "execution_count": 3,
   "metadata": {},
   "outputs": [],
   "source": [
    "#definimos as variaveis\n",
    "\n",
    "# Dados do problema\n",
    "Tb = 100  # Temperatura na base da aleta (C)\n",
    "Tfluidoc = 25   # Temperatura do fluido circundante (C)\n",
    "Coef_Conv = 20  # Coeficiente de convecção (W/m²·K)\n",
    "L = 0.15  # Comprimento da aleta (m)\n",
    "A_c = 0.02 * 0.24  # Área da seção transversal da aleta (m²)\n",
    "k = 240  # Condutividade térmica do alumínio (W/m·K)"
   ]
  },
  {
   "cell_type": "markdown",
   "metadata": {},
   "source": [
    "Apesar de usarmos coeficientes de variação em Kelvin, nós podemos usar valores de temperatura em Celsius, pois a diferença entre as temperaturas é a mesma."
   ]
  },
  {
   "cell_type": "code",
   "execution_count": 7,
   "metadata": {},
   "outputs": [
    {
     "name": "stdout",
     "output_type": "stream",
     "text": [
      "A taxa de transferência de calor é de 7.2 W\n"
     ]
    }
   ],
   "source": [
    "#Calculo da taxa de transferencia de calor\n",
    "Q = Coef_Conv * A_c * (Tb - Tfluidoc)\n",
    "print('A taxa de transferência de calor é de', round(Q,2), 'W')"
   ]
  },
  {
   "cell_type": "markdown",
   "metadata": {},
   "source": [
    "Para calcular a temperatura na extremidade da aleta, usamos a seguinte fórmula:\n",
    "<img src=\"tabela.png\"> "
   ]
  },
  {
   "cell_type": "code",
   "execution_count": 13,
   "metadata": {},
   "outputs": [
    {
     "name": "stdout",
     "output_type": "stream",
     "text": [
      "A temperatura na extremidade da aleta é de 100.0 C\n"
     ]
    }
   ],
   "source": [
    "#Calculo da temperatura na extremidade da aleta\n",
    "x = np.linspace(0, L, 100)\n",
    "T_ext = np.cosh((Coef_Conv * A_c / (k * A_c)) ** 0.5 * x) / np.cosh((Coef_Conv * A_c / (k * A_c)) ** 0.5 * L) * (Tb - Tfluidoc) + Tfluidoc\n",
    "print('A temperatura na extremidade da aleta é de', min(T_ext[99]), 'C')"
   ]
  }
 ],
 "metadata": {
  "kernelspec": {
   "display_name": "Python 3",
   "language": "python",
   "name": "python3"
  },
  "language_info": {
   "codemirror_mode": {
    "name": "ipython",
    "version": 3
   },
   "file_extension": ".py",
   "mimetype": "text/x-python",
   "name": "python",
   "nbconvert_exporter": "python",
   "pygments_lexer": "ipython3",
   "version": "3.10.12"
  },
  "orig_nbformat": 4
 },
 "nbformat": 4,
 "nbformat_minor": 2
}
