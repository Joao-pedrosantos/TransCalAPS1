{
 "cells": [
  {
   "cell_type": "markdown",
   "metadata": {},
   "source": [
    "Transcal - APS 1\n",
    "================\n",
    "João Pedro Rodrigues dos Santos, Gabriel Mendonça, Douglas Pablo"
   ]
  },
  {
   "cell_type": "code",
   "execution_count": 1,
   "metadata": {},
   "outputs": [],
   "source": [
    "#importamos as bibliotecas\n",
    "import numpy as np\n",
    "import matplotlib.pyplot as plt"
   ]
  },
  {
   "cell_type": "code",
   "execution_count": 15,
   "metadata": {},
   "outputs": [],
   "source": [
    "#definimos as variaveis\n",
    "\n",
    "# Dados do problema\n",
    "Tb = 100  # Temperatura na base da aleta (C)\n",
    "Tfluidoc = 25   # Temperatura do fluido circundante (C)\n",
    "Coef_Conv = 20  # Coeficiente de convecção (W/m²·K)\n",
    "L = 0.15  # Comprimento da aleta (m)\n",
    "A_c = 0.02 * 0.24  # Área da seção transversal da aleta (m²)\n",
    "k = 240  # Condutividade térmica do alumínio (W/m·K)\n",
    "h = 0.02  # Espessura da aleta (m)\n",
    "P = 2 * (0.02 + 0.24)  # Perímetro da aleta (m)"
   ]
  },
  {
   "cell_type": "markdown",
   "metadata": {},
   "source": [
    "Apesar de usarmos coeficientes de variação em Kelvin, nós podemos usar valores de temperatura em Celsius, pois a diferença entre as temperaturas é a mesma."
   ]
  },
  {
   "cell_type": "code",
   "execution_count": 7,
   "metadata": {},
   "outputs": [
    {
     "name": "stdout",
     "output_type": "stream",
     "text": [
      "A taxa de transferência de calor é de 7.2 W\n"
     ]
    }
   ],
   "source": [
    "#Calculo da taxa de transferencia de calor\n",
    "Q = Coef_Conv * A_c * (Tb - Tfluidoc)\n",
    "print('A taxa de transferência de calor é de', round(Q,2), 'W')"
   ]
  },
  {
   "cell_type": "markdown",
   "metadata": {},
   "source": [
    "Para calcular a temperatura na extremidade da aleta, usamos a seguinte fórmula:\n",
    "<img src=\"tabela.png\"> "
   ]
  },
  {
   "cell_type": "code",
   "execution_count": 22,
   "metadata": {},
   "outputs": [
    {
     "name": "stdout",
     "output_type": "stream",
     "text": [
      "A temperatura na extremidade da aleta é de [50485.35347819 49946.58158411 49408.72799418 48871.78281461\n",
      " 48335.73616833 47800.57819481 47266.29904985 46732.88890542\n",
      " 46200.33794947 45668.63638577 45137.77443369 44607.74232808\n",
      " 44078.53031903 43550.12867171 43022.52766622 42495.71759736\n",
      " 41969.68877451 41444.43152139 40919.93617595 40396.19309011\n",
      " 39873.19262966 39350.92517404 38829.38111618 38308.55086231\n",
      " 37788.42483179 37268.99345694 36750.24718285 36232.17646722\n",
      " 35714.77178017 35198.02360408 34681.92243341 34166.4587745\n",
      " 33651.62314543 33137.40607584 32623.79810675 32110.78979036\n",
      " 31598.37168992 31086.53437953 30575.26844399 30064.56447859\n",
      " 29554.41308896 29044.8048909  28535.73051022 28027.1805825\n",
      " 27519.14575303 27011.61667652 26504.58401701 25998.03844768\n",
      " 25491.97065065 24986.37131683 24481.23114577 23976.54084544\n",
      " 23472.2911321  22968.47273011 22465.07637175 21962.0927971\n",
      " 21459.51275381 20957.32699693 20455.52628881 19954.10139885\n",
      " 19453.04310337 18952.34218544 18451.98943471 17951.97564721\n",
      " 17452.29162522 16952.9281771  16453.87611708 15955.12626513\n",
      " 15456.66944679 14958.49649297 14460.59823982 13962.96552854\n",
      " 13465.58920519 12968.46012058 12471.56913005 11974.90709333\n",
      " 11478.46487435 10982.23334108 10486.20336539  9990.36582283\n",
      "  9494.71159251  8999.2315569   8503.91660167  8008.75761555\n",
      "  7513.74549012  7018.87111965  6524.12540098  6029.49923328\n",
      "  5534.98351794  5040.56915839  4546.24705988  4052.00812942\n",
      "  3557.8432755   3063.74340799  2569.69943797  2075.70227752\n",
      "  1581.74283961  1087.81203787   593.90078649   100.        ] C\n"
     ]
    }
   ],
   "source": [
    "#Calculo da temperatura na extremidade da aleta\n",
    "x = np.linspace(0, L, 100)\n",
    "m = np.sqrt((Coef_Conv * A_c) / (h * P * k * A_c))\n",
    "theta = np.cosh(m * (L - x)) + (Coef_Conv/ m*k) * np.sinh(m * (L - x)) / (np.cosh(m * L) + (Coef_Conv / (m * k)) * np.sinh(m * L))\n",
    "\n",
    "\n",
    "\n",
    "print('A temperatura na extremidade da aleta é de', theta, 'C')"
   ]
  }
 ],
 "metadata": {
  "kernelspec": {
   "display_name": "Python 3",
   "language": "python",
   "name": "python3"
  },
  "language_info": {
   "codemirror_mode": {
    "name": "ipython",
    "version": 3
   },
   "file_extension": ".py",
   "mimetype": "text/x-python",
   "name": "python",
   "nbconvert_exporter": "python",
   "pygments_lexer": "ipython3",
   "version": "3.10.12"
  },
  "orig_nbformat": 4
 },
 "nbformat": 4,
 "nbformat_minor": 2
}
